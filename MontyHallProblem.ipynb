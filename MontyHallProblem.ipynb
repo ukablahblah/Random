{
  "nbformat": 4,
  "nbformat_minor": 0,
  "metadata": {
    "colab": {
      "provenance": [],
      "authorship_tag": "ABX9TyMt68iAJjhd9Zc2onMtqohw",
      "include_colab_link": true
    },
    "kernelspec": {
      "name": "python3",
      "display_name": "Python 3"
    },
    "language_info": {
      "name": "python"
    }
  },
  "cells": [
    {
      "cell_type": "markdown",
      "metadata": {
        "id": "view-in-github",
        "colab_type": "text"
      },
      "source": [
        "<a href=\"https://colab.research.google.com/github/ukablahblah/Random/blob/main/MontyHallProblem.ipynb\" target=\"_parent\"><img src=\"https://colab.research.google.com/assets/colab-badge.svg\" alt=\"Open In Colab\"/></a>"
      ]
    },
    {
      "cell_type": "code",
      "execution_count": 1,
      "metadata": {
        "colab": {
          "base_uri": "https://localhost:8080/",
          "height": 487
        },
        "id": "6qP5Oi0_IPB9",
        "outputId": "6edb20b0-d7e6-4e0d-8880-785dba381f58"
      },
      "outputs": [
        {
          "output_type": "stream",
          "name": "stdout",
          "text": [
            "Win rate when switching: 66.94%\n",
            "Win rate when staying: 33.44%\n"
          ]
        },
        {
          "output_type": "display_data",
          "data": {
            "text/plain": [
              "<Figure size 640x480 with 1 Axes>"
            ],
            "image/png": "[encoded data removed]"
          },
          "metadata": {}
        }
      ],
      "source": [
        "import numpy as np\n",
        "import matplotlib.pyplot as plt\n",
        "\n",
        "def monty_hall_simulation(num_trials=1000, switch=True):\n",
        "    win_count = 0\n",
        "\n",
        "    for _ in range(num_trials):\n",
        "        doors = [0, 0, 1]  # One car (1), two goats (0)\n",
        "        np.random.shuffle(doors)\n",
        "\n",
        "        # Contestant makes an initial choice\n",
        "        chosen_door = np.random.randint(0, 3)\n",
        "\n",
        "        # Monty opens a goat door\n",
        "        remaining_doors = [i for i in range(3) if i != chosen_door and doors[i] == 0]\n",
        "        monty_opens = np.random.choice(remaining_doors)\n",
        "\n",
        "        # If switching, choose the remaining door\n",
        "        if switch:\n",
        "            chosen_door = [i for i in range(3) if i != chosen_door and i != monty_opens][0]\n",
        "\n",
        "        # Check if the contestant won a car\n",
        "        if doors[chosen_door] == 1:\n",
        "            win_count += 1\n",
        "\n",
        "    return win_count / num_trials\n",
        "\n",
        "# Run simulations\n",
        "num_trials = 10000\n",
        "win_rate_switch = monty_hall_simulation(num_trials, switch=True)\n",
        "win_rate_stay = monty_hall_simulation(num_trials, switch=False)\n",
        "\n",
        "# Display results\n",
        "print(f\"Win rate when switching: {win_rate_switch * 100:.2f}%\")\n",
        "print(f\"Win rate when staying: {win_rate_stay * 100:.2f}%\")\n",
        "\n",
        "# Plot results\n",
        "labels = ['Switch', 'Stay']\n",
        "values = [win_rate_switch, win_rate_stay]\n",
        "plt.bar(labels, values, color=['blue', 'red'])\n",
        "plt.ylabel('Winning Probability')\n",
        "plt.title('Monty Hall Simulation Results')\n",
        "plt.ylim(0, 1)\n",
        "plt.show()\n"
      ]
    },
    {
      "cell_type": "code",
      "source": [],
      "metadata": {
        "id": "A4-qEkPTIonC"
      },
      "execution_count": null,
      "outputs": []
    }
  ]
}